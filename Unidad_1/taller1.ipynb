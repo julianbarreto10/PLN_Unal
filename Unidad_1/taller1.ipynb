{
  "cells": [
    {
      "cell_type": "markdown",
      "id": "4d9b7750",
      "metadata": {
        "id": "4d9b7750"
      },
      "source": [
        "<img src=\"https://drive.google.com/uc?export=view&id=1pWL34MWc1rS0peIekOBe8GGBIEUFPyrG\" width=\"100%\">"
      ]
    },
    {
      "cell_type": "markdown",
      "id": "2a509d54",
      "metadata": {
        "id": "2a509d54"
      },
      "source": [
        "# **Taller 1**\n",
        "---\n",
        "En este taller se evaluarán las habilidades adquiridas en manejo de archivos, manipulación de _strings_ y la obtención de textos a partir de un **HTML** (_WebScraping_) tal y como se realizó en el taller guiado de obtención de textos desde _Python_.\n",
        "\n",
        "En este caso, usted deberá realizar algunas operaciones de extracción de información y manejo de textos a partir de una página web dada que trata sobre la biografía de [Noam Chomsky](https://es.wikipedia.org/wiki/Noam_Chomsky) en Wikipedia.\n",
        "\n",
        "<center>\n",
        "<img src = \"https://drive.google.com/uc?export=view&id=1FZQwqmYJ98obEV9-gZLF1v7QIJ04wH8T\" alt = \"Cadenas con formato\" width = \"80%\">  </img>\n",
        "</center>\n",
        "\n",
        "Ejecute la siguiente celda para importar las librerías que permiten la ejecución del código que se desarrolle posteriormente."
      ]
    },
    {
      "cell_type": "code",
      "execution_count": 1,
      "id": "910d5103",
      "metadata": {
        "id": "910d5103"
      },
      "outputs": [],
      "source": [
        "import bs4\n",
        "from IPython.display import HTML"
      ]
    },
    {
      "cell_type": "markdown",
      "id": "78416bed",
      "metadata": {
        "id": "78416bed"
      },
      "source": [
        "## **Carga de Datos**\n",
        "\n",
        "Para este primer ejercicio, debe cargar un archivo **HTML** como un fichero y realizar el código requerido para convertirlo a `beautifulsoup` para así poder analizar la información contenida en la página web en los siguientes ejercicios.\n",
        "\n",
        "Primero, cargaremos el archivo **HTML** en un documento llamado `chomsky.html` que se almacenará localmente:"
      ]
    },
    {
      "cell_type": "code",
      "execution_count": null,
      "id": "f18d4b07",
      "metadata": {
        "id": "f18d4b07"
      },
      "outputs": [],
      "source": [
        "#TEST_CELL\n",
        "!wget 'https://drive.google.com/uc?export=view&id=1T1mi5iJ_l5ABVa2lFAzrAtTQPvzuK99q' -O chomsky.html"
      ]
    },
    {
      "cell_type": "markdown",
      "id": "7846f37b",
      "metadata": {
        "id": "7846f37b"
      },
      "source": [
        "La siguiente celda permite visualizar el archivo `.html` dentro del notebook con las imágenes y los enlaces embebidos."
      ]
    },
    {
      "cell_type": "code",
      "execution_count": null,
      "id": "ee590d29",
      "metadata": {
        "id": "ee590d29"
      },
      "outputs": [],
      "source": [
        "#TEST_CELL\n",
        "HTML(filename=\"chomsky.html\")"
      ]
    },
    {
      "cell_type": "markdown",
      "id": "7f4905a6",
      "metadata": {
        "id": "7f4905a6"
      },
      "source": [
        "Leeremos el archivo recién descargado y, a partir de este, crearemos la variable `soup` que contendrá dicho documento **HTML** como un objeto `BeautifulSoup` con la finalidad de utilizarlo posteriormente."
      ]
    },
    {
      "cell_type": "code",
      "execution_count": null,
      "id": "d83bf810",
      "metadata": {
        "id": "d83bf810"
      },
      "outputs": [],
      "source": [
        "with open(\"chomsky.html\") as f:\n",
        "    raw_data = f.read()\n",
        "    soup = bs4.BeautifulSoup(raw_data)"
      ]
    },
    {
      "cell_type": "markdown",
      "id": "e1834f22",
      "metadata": {
        "id": "e1834f22"
      },
      "source": [
        "## **1. Extracción de Headings**\n",
        "---\n",
        "\n",
        "<center>\n",
        "<img src = \"https://drive.google.com/uc?export=view&id=1gqbtUpan9VuoQYm1xcHT77qLlyyO5DlF\" alt = \"Cadenas con formato\" width = \"60%\">  </img>\n",
        "</center>\n",
        "\n",
        "\n",
        "Para este primer ejercicio, debe completar la función `get_headings` con un código válido que retorne una lista que contenga **todos** los nombres de las secciones (_headers_) del archivo **HTML** que sean del **nivel indicado**, por ejemplo, todos los títulos con la etiqueta `<h2>`.\n",
        "\n",
        "**Parámetros**\n",
        "\n",
        "* `soup`: este debe contener el documento **HTML** pero como un objeto de `beautifulsoup`.\n",
        "* `head_n`: número entero que indica el nivel del título requerido.\n",
        "\n",
        "**Retorna**\n",
        "\n",
        "* `results`: lista cuyos elementos son _strings_ que indican los nombres de los _headers_ pertenecientes al nivel del título señalado con `head_n`."
      ]
    },
    {
      "cell_type": "markdown",
      "id": "b82e5a09",
      "metadata": {
        "id": "b82e5a09"
      },
      "source": [
        "<details>    \n",
        "<summary>\n",
        "    <font size=\"3\" color=\"darkgreen\"><b>Pistas</b></font>\n",
        "</summary>\n",
        "\n",
        "* Recuerde que los objetos que provengan de la librería `bs4` (`BeautifulSoup`) contienen el método _`find_all(query)`_ el cual permite filtrar el contenido y obtener _todas_ las coincidencias según lo indicado en el parámetro _`query`_.\n",
        "* No debe confundir el método _`find`_ con el indicado en la pista anterior. A diferencia de este último, el método _`find`_ devuelve el primer elemento de la etiqueta dada. Para desarrollar correctamente el ejercicio, se debe analizar solamente el ***contenido*** sobre _Noam Chomsky_ que contiene la página; en el caso de Wikipedia, esta sección tiene un `id` único y específico.\n",
        "</details>"
      ]
    },
    {
      "cell_type": "code",
      "execution_count": null,
      "id": "9b8ff8aa",
      "metadata": {
        "lines_to_next_cell": 1,
        "id": "9b8ff8aa"
      },
      "outputs": [],
      "source": [
        "# FUNCIÓN CALIFICADA get_headings:\n",
        "\n",
        "def get_headings(soup, head_n):\n",
        "    ### ESCRIBA SU CÓDIGO AQUÍ ###\n",
        "    results=[i.get_text() for i in soup.find(id='content').find_all(\"h\"+str(head_n))]\n",
        "\n",
        "    return results\n",
        "    ### FIN DEL CÓDIGO ###"
      ]
    },
    {
      "cell_type": "code",
      "execution_count": null,
      "id": "29421c94",
      "metadata": {
        "id": "29421c94"
      },
      "outputs": [],
      "source": [
        "#TEST_CELL\n",
        "print(get_headings(soup, 1))"
      ]
    },
    {
      "cell_type": "markdown",
      "id": "f60c03c6",
      "metadata": {
        "id": "f60c03c6"
      },
      "source": [
        "**Salida esperada:**\n",
        "\n",
        "* En este primer ejemplo, se retornan todos los títulos que sean de nivel 1 que, en el caso de Wikipedia, solo incluye el título del contenido.\n",
        "\n",
        "```python\n",
        "print(get_headings(soup, 1))\n",
        "```\n",
        "> `['Noam Chomsky']`"
      ]
    },
    {
      "cell_type": "code",
      "execution_count": null,
      "id": "1cc70224",
      "metadata": {
        "id": "1cc70224"
      },
      "outputs": [],
      "source": [
        "#TEST_CELL\n",
        "print(get_headings(soup, 2))"
      ]
    },
    {
      "cell_type": "markdown",
      "id": "0be1b65b",
      "metadata": {
        "id": "0be1b65b"
      },
      "source": [
        "**Salida esperada:**\n",
        "\n",
        "* Para el segundo ejemplo, se retornan todos los títulos que sean de nivel 2.\n",
        "\n",
        "```python\n",
        "print(get_headings(soup, 2))\n",
        "```\n",
        "> `['Índice', 'Biografía[editar]', 'Contribuciones a la lingüística[editar]', 'Activismo político y posicionamientos[editar]', 'Antiglobalización económica de Chomsky[editar]', 'Libros publicados[editar]', 'Véase también[editar]', 'Notas[editar]', 'Bibliografía[editar]', 'Enlaces externos[editar]']`"
      ]
    },
    {
      "cell_type": "code",
      "execution_count": null,
      "id": "46181c7c",
      "metadata": {
        "lines_to_next_cell": 1,
        "id": "46181c7c"
      },
      "outputs": [],
      "source": [
        "#TEST_CELL\n",
        "print(get_headings(soup, 3))"
      ]
    },
    {
      "cell_type": "markdown",
      "id": "2660842f",
      "metadata": {
        "id": "2660842f"
      },
      "source": [
        "**Salida esperada:**\n",
        "\n",
        "* En este último caso, se retornan todos los títulos que sean de nivel 3.\n",
        "\n",
        "```python\n",
        "print(get_headings(soup, 3))\n",
        "```\n",
        "> `['Teoría de principios y parámetros[editar]', 'Perspectiva sobre el ateísmo, la ciencia y la religión[editar]', 'Lingüística[editar]', 'Política[editar]']`"
      ]
    },
    {
      "cell_type": "markdown",
      "id": "11d35103",
      "metadata": {
        "id": "11d35103"
      },
      "source": [
        "## **2. Extracción de Texto en un ID**\n",
        "---\n",
        "Para este ejercicio, debe completar la función `get_text` con un código válido que retorne una cadena de texto que incluya todo el contenido de una sección indicada del archivo **HTML**.\n",
        "\n",
        "**Parámetros**\n",
        "\n",
        "* `soup`: este debe contener el documento **HTML** pero como un objeto de `beautifulsoup`.\n",
        "* `id`: cadena de texto que indica una de las secciones del archivo **HTML** que tenga como _id_ el argumento indicado.\n",
        "\n",
        "**Retorna**\n",
        "\n",
        "* `content`: cadena de texto que contiene el contenido de la sección indicada por el parámetro `id`."
      ]
    },
    {
      "cell_type": "markdown",
      "id": "91923a20",
      "metadata": {
        "id": "91923a20"
      },
      "source": [
        "<details>    \n",
        "<summary>\n",
        "    <font size=\"3\" color=\"darkgreen\"><b>Pistas</b></font>\n",
        "</summary>\n",
        "\n",
        "* Tenga en cuenta que `content` debe ser una **cadena de texto** que contenga **solamente** el contenido de la sección indicada, es decir, el resultado _no_ debe incluir las etiquetas ni el formato **HTML** que englobe a la división. Para esto se puede usar la función `get_text()`.\n",
        "* Recuerde que la función _`find`_ obtiene la primera coincidencia de la etiqueta dada. Como los _id_ en **HTML** son únicos, puede resultar más fácil filtrar por este método.\n",
        "</details>"
      ]
    },
    {
      "cell_type": "code",
      "execution_count": null,
      "id": "6f0b23cb",
      "metadata": {
        "lines_to_next_cell": 1,
        "id": "6f0b23cb"
      },
      "outputs": [],
      "source": [
        "# FUNCIÓN CALIFICADA get_text:\n",
        "\n",
        "def get_text(soup, id):\n",
        "    ### ESCRIBA SU CÓDIGO AQUÍ ###\n",
        "    content = soup.find(id=id).get_text()\n",
        "\n",
        "\n",
        "    return content\n",
        "    ### FIN DEL CÓDIGO ###"
      ]
    },
    {
      "cell_type": "code",
      "execution_count": null,
      "id": "8878427f",
      "metadata": {
        "id": "8878427f"
      },
      "outputs": [],
      "source": [
        "#TEST_CELL\n",
        "print(get_text(soup, \"toc\"))"
      ]
    },
    {
      "cell_type": "markdown",
      "id": "ec50ebb5",
      "metadata": {
        "id": "ec50ebb5"
      },
      "source": [
        "**Salida esperada:**\n",
        "\n",
        "* En el ejemplo, la función retorna la tabla de contenido que está identificada con el _id_ `toc` en forma de _string_.\n",
        "\n",
        "```python\n",
        "print(get_text(soup, \"toc\"))\n",
        "```\n",
        "> <p>Índice<br><br>1 Biografía<br>2 Contribuciones a la lingüística<br><br>2.1 Teoría de principios y parámetros<br><br><br>3 Activismo político y posicionamientos<br>4 Antiglobalización económica de Chomsky<br><br>4.1 Perspectiva sobre el ateísmo, la ciencia y la religión<br><br><br>5 Libros publicados<br><br>5.1 Lingüística<br>5.2 Política<br><br><br>6 Véase también<br>7 Notas<br>8 Bibliografía<br>9 Enlaces externos<br><br></p>"
      ]
    },
    {
      "cell_type": "code",
      "execution_count": null,
      "id": "48a3e0e0",
      "metadata": {
        "id": "48a3e0e0"
      },
      "outputs": [],
      "source": [
        "#TEST_CELL\n",
        "print(get_text(soup, \"footer\"))"
      ]
    },
    {
      "cell_type": "markdown",
      "id": "0c2c84a0",
      "metadata": {
        "id": "0c2c84a0"
      },
      "source": [
        "**Salida esperada:**\n",
        "\n",
        "* La función retorna el contenido en bruto de la sección que está identificada con el _id_ `footer`.\n",
        "\n",
        "```python\n",
        "print(get_text(soup, \"footer\"))\n",
        "```\n",
        "> <br><br> Esta página se editó por última vez el 26 oct 2022 a las 11:04.<br>El texto está disponible bajo la Licencia Creative Commons Atribución Compartir Igual 3.0;<br>pueden aplicarse cláusulas adicionales. Al usar este sitio, usted acepta nuestros términos de uso y nuestra política de privacidad. Wikipedia® es una marca registrada de la Fundación Wikimedia, Inc., una organización sin ánimo de lucro.<br><br><br>Política de privacidad<br>Acerca de Wikipedia<br>Limitación de responsabilidad<br>Versión para móviles<br>Desarrolladores<br>Estadísticas<br>Declaración de cookies<br><br><br><br><br><br>"
      ]
    },
    {
      "cell_type": "code",
      "execution_count": null,
      "id": "c6500637",
      "metadata": {
        "lines_to_next_cell": 1,
        "id": "c6500637"
      },
      "outputs": [],
      "source": [
        "#TEST_CELL\n",
        "print(get_text(soup, \"bodyContent\")[:1000])"
      ]
    },
    {
      "cell_type": "markdown",
      "id": "d7c087e4",
      "metadata": {
        "id": "d7c087e4"
      },
      "source": [
        "**Salida esperada:**\n",
        "\n",
        "* Por último, la función retorna los primeros 1000 caracteres en bruto del contenido de la sección identificada con el _id_ `bodyContent`.\n",
        "\n",
        "```python\n",
        "print(get_text(soup, \"bodyContent\")[:1000])\n",
        "```\n",
        "> <br>De Wikipedia, la enciclopedia libre<br><br><br><br>Ir a la navegación<br>Ir a la búsqueda<br>Noam Chomsky<br>Noam Chomsky en 2017Información personalNacimiento<br>7 de diciembre de 1928  (93 años)Filadelfia, Pensilvania, Estados UnidosNacionalidad<br>EstadounidenseReligión<br>AteoFamiliaPadre<br>William Chomsky Cónyuge<br>Carol Chomsky (1949-2008)Valeria Wasserman Chomsky (desde 2014) EducaciónEducado en<br>Instituto Tecnológico de MassachusettsOak Lane Day SchoolCentral High School (hasta 1945)Universidad de Pensilvania (B.A.; 1945-1949)Universidad de Pensilvania (M.A.; 1949-1951)Universidad de Harvard (Lingüística; 1951-1955) Alumno de<br>Zellig HarrisNelson Goodman Información profesionalOcupación<br>Filósofo, lingüista, escritor político, profesor universitario, psicólogo, antropólogo, activista por los derechos humanos, pedagogo, crítico de medios, escritor, publicista, informático teórico e historiador Área<br>Lingüística, filosofía del lenguaje, psicología, Gramática generativa, teoría de la comunicación, ciencia cognitiva,"
      ]
    },
    {
      "cell_type": "markdown",
      "id": "3b5cf1a4",
      "metadata": {
        "id": "3b5cf1a4"
      },
      "source": [
        "## **3. Normalización del Texto**\n",
        "---\n",
        "En este ejercicio se busca _normalizar_ el texto, lo que implica un proceso de transformación del mismo para estandarizarlo y hacerlo consistente antes de realizar operaciones complejas sobre este. Debe completar la función `normalize` con un código válido que retorne una cadena que incluya todo el contenido _normalizado_ de una sección indicada del archivo **HTML**. La función `normalize` debe tener en cuenta los siguientes requerimientos para la normalización:\n",
        "\n",
        "<ol>\n",
        "<li>Extraer un fragmento de texto a partir de un <i>id</i>, como se realizó en el ejercicio anterior.</li>\n",
        "<li>La cadena de texto entrante debe ser separada por cada salto de línea que se encuentre.</li>\n",
        "<li>Todo el texto debe estar en <b>minúsculas</b>.</li>\n",
        "<li>Se deben eliminar los espacios en blanco al inicio y al final de cada línea.</li>\n",
        "<li>En la cadena de texto resultante, cada línea diferente de la cadena original se une por espacios para así formar un <i>string</i> de una sola línea.</li>\n",
        "</ol>\n",
        "\n",
        "**Parámetros**\n",
        "\n",
        "* `soup`: este debe contener el documento **HTML** pero como un objeto de `beautifulsoup`.\n",
        "* `id`: cadena de texto que indica una de las secciones del archivo **HTML** que tenga como _id_ el argumento indicado.\n",
        "\n",
        "**Retorna**\n",
        "\n",
        "* `strip_text`: cadena de texto que contiene el contenido _normalizado_ de la sección indicada por el parámetro `id`."
      ]
    },
    {
      "cell_type": "markdown",
      "id": "6ab181ec",
      "metadata": {
        "id": "6ab181ec"
      },
      "source": [
        "<details>    \n",
        "<summary>\n",
        "    <font size=\"3\" color=\"darkgreen\"><b>Pistas</b></font>\n",
        "</summary>\n",
        "\n",
        "* _Python_ provee una función para las cadenas que permite su conversión a minúsculas; la misma retorna un _string_ con la transformación realizada, su sintaxis es la siguiente:\n",
        "    ```python\n",
        "    text.lower()\n",
        "    ```\n",
        "* Existe otra función que puede ayudarle en este ejercicio llamada _`split`_. La misma separa una cadena de texto indicada en un lugar en concreto; este puede ser definido por el usuario pasando un caracter o un _substring_ como argumento en el parámetro `char`, en caso contrario, se separará la cadena por espacios por defecto. Su sintaxis es la siguiente:\n",
        "    ```python\n",
        "    text.split(char)\n",
        "    ```\n",
        "Cabe resaltar que esta función retorna una lista de _tokens_ donde cada uno de estos corresponde a los segmentos de texto que hay entre la aparición de un caracter separador y otro. En caso de que utilice este método, debe **unir** estos _tokens_ según los requerimientos de normalización dados para retornar un solo _string_.\n",
        "* Puede tomar la función del ejercicio anterior (`get_text`) y, a partir del resultado de la misma, empezar a trabajar en este ejercicio. Recuerde que la función `get_text` retorna una cadena de texto.\n",
        "\n",
        "</details>"
      ]
    },
    {
      "cell_type": "code",
      "execution_count": null,
      "id": "43f60896",
      "metadata": {
        "lines_to_next_cell": 1,
        "id": "43f60896"
      },
      "outputs": [],
      "source": [
        "# FUNCIÓN CALIFICADA normalize:\n",
        "\n",
        "def normalize(soup, id):\n",
        "    ### ESCRIBA SU CÓDIGO AQUÍ ###\n",
        "    txt = soup.find(id=id).get_text().lower()\n",
        "    lineas=txt.split('\\n')\n",
        "    lineas_limpias = [linea.strip() for linea in lineas]\n",
        "    strip_text = (\" \").join(lineas_limpias)\n",
        "\n",
        "\n",
        "    return strip_text\n",
        "    ### FIN DEL CÓDIGO ###"
      ]
    },
    {
      "cell_type": "code",
      "execution_count": null,
      "id": "33deea11",
      "metadata": {
        "id": "33deea11"
      },
      "outputs": [],
      "source": [
        "#TEST_CELL\n",
        "print(normalize(soup, \"toc\"))"
      ]
    },
    {
      "cell_type": "markdown",
      "id": "35323273",
      "metadata": {
        "id": "35323273"
      },
      "source": [
        "**Salida esperada:**\n",
        "\n",
        "* En el ejemplo, la función retorna la tabla de contenido _normalizada_ que está identificada con el _id_ `toc`.\n",
        "\n",
        "```python\n",
        "print(get_text(soup, \"toc\"))\n",
        "```\n",
        "\n",
        ">`'índice  1 biografía 2 contribuciones a la lingüística  2.1 teoría de principios y parámetros   3 activismo político y posicionamientos 4 antiglobalización económica de chomsky  4.1 perspectiva sobre el ateísmo, la ciencia y la religión   5 libros publicados  5.1 lingüística 5.2 política   6 véase también 7 notas 8 bibliografía 9 enlaces externos'`"
      ]
    },
    {
      "cell_type": "code",
      "execution_count": null,
      "id": "4f70ded3",
      "metadata": {
        "id": "4f70ded3"
      },
      "outputs": [],
      "source": [
        "#TEST_CELL\n",
        "print(normalize(soup, \"footer\"))"
      ]
    },
    {
      "cell_type": "markdown",
      "id": "f99f4f3a",
      "metadata": {
        "id": "f99f4f3a"
      },
      "source": [
        "**Salida esperada:**\n",
        "* La función retorna el contenido _normalizado_ de la sección que está identificada con el _id_ `footer`.\n",
        "\n",
        "```python\n",
        "print(get_text(soup, \"footer\"))\n",
        "```\n",
        "\n",
        ">`'  esta página se editó por última vez el 26 oct 2022 a las 11:04. el texto está disponible bajo la licencia creative commons atribución compartir igual 3.0; pueden aplicarse cláusulas adicionales. al usar este sitio, usted acepta nuestros términos de uso y nuestra política de privacidad. wikipedia® es una marca registrada de la fundación wikimedia, inc., una organización sin ánimo de lucro.   política de privacidad acerca de wikipedia limitación de responsabilidad versión para móviles desarrolladores estadísticas declaración de cookies'`"
      ]
    },
    {
      "cell_type": "code",
      "execution_count": null,
      "id": "0a24f1cc",
      "metadata": {
        "lines_to_next_cell": 1,
        "id": "0a24f1cc"
      },
      "outputs": [],
      "source": [
        "#TEST_CELL\n",
        "print(normalize(soup, \"bodyContent\")[:1000])"
      ]
    },
    {
      "cell_type": "markdown",
      "id": "839f9fcf",
      "metadata": {
        "id": "839f9fcf"
      },
      "source": [
        "**Salida esperada:**\n",
        "* En este último ejemplo, la función retorna los primeros 1000 caracteres del contenido de la sección identificada con el _id_ `bodyContent`.\n",
        "\n",
        "```python\n",
        "print(get_text(soup, \"bodyContent\")[:1000])\n",
        "```\n",
        "\n",
        ">`' de wikipedia, la enciclopedia libre    ir a la navegación ir a la búsqueda noam chomsky noam chomsky en 2017información personalnacimiento 7 de diciembre de 1928  (93 años)filadelfia, pensilvania, estados unidosnacionalidad estadounidensereligión ateofamiliapadre william chomsky cónyuge carol chomsky (1949-2008)valeria wasserman chomsky (desde 2014) educacióneducado en instituto tecnológico de massachusettsoak lane day schoolcentral high school (hasta 1945)universidad de pensilvania (b.a.; 1945-1949)universidad de pensilvania (m.a.; 1949-1951)universidad de harvard (lingüística; 1951-1955) alumno de zellig harrisnelson goodman información profesionalocupación filósofo, lingüista, escritor político, profesor universitario, psicólogo, antropólogo,'`"
      ]
    },
    {
      "cell_type": "markdown",
      "id": "a084acad",
      "metadata": {
        "id": "a084acad"
      },
      "source": [
        "## **4. Eliminación de Palabras**\n",
        "---\n",
        "\n",
        "En este ejercicio debe realizar una eliminación de palabras con la finalidad de extraer la información relevante del texto y limpiar el mismo de palabras poco informativas a nivel léxico. Debe completar la función `delete_words` con un código válido que retorne una cadena que incluya todo el contenido _limpio_ de una sección indicada del archivo **HTML**. Para dar con la respuesta correcta, adicionalmente debe seguir los siguientes pasos para realizar la eliminación de las palabras:\n",
        "\n",
        "<ol>\n",
        "\n",
        "<li> Normalizar el texto de la sección indicada. </li>\n",
        "<li> La cadena de texto a analizar debe separarse por espacios para poder obtener a los <i>tokens</i>. </li>\n",
        "<li> Las palabras deben estar filtradas por un <i>rango de longitud</i>. </li>\n",
        "<li> Se deben eliminar palabras de una lista dada y <b>no</b> arbitrariamente.</li>\n",
        "<li> Los <i>tokens</i> de la cadena de texto resultante deben estar unidos por espacios para formar la cadena de texto de salida. </li>\n",
        "    \n",
        "</ol>\n",
        "\n",
        "<center>\n",
        "<img src = \"https://drive.google.com/uc?export=view&id=1I3pjiAMCrchVYybNbStRcEM0a7S1tcK5\" alt = \"Cadenas con formato\" width = \"80%\">  </img>\n",
        "</center>\n",
        "\n",
        "**Parámetros**\n",
        "\n",
        "* `soup`: este debe contener el documento **HTML** pero como un objeto de `beautifulsoup`.\n",
        "* `id`: cadena de texto que indica una de las secciones del archivo **HTML** que tenga como _id_ el argumento indicado.\n",
        "* `min_len`: número entero que indica el límite inferior del _rango de longitud_ por el cual deben estar filtradas las palabras.\n",
        "* `max_len`: número entero que indica el límite superior del _rango de longitud_ por el cual deben estar filtradas las palabras.\n",
        "* `stops`: lista cuyos elementos son _strings_ o _tokens_ los cuales deben ser los que se eliminen de la cadena de texto.\n",
        "\n",
        "**Retorna**\n",
        "\n",
        "* `resulting_tokens`: cadena de texto que contiene el contenido de la sección indicada luego de la _eliminación de palabras_."
      ]
    },
    {
      "cell_type": "markdown",
      "id": "bd0a7c61",
      "metadata": {
        "id": "bd0a7c61"
      },
      "source": [
        "<details>    \n",
        "<summary>\n",
        "    <font size=\"3\" color=\"darkgreen\"><b>Pistas</b></font>\n",
        "</summary>\n",
        "\n",
        "* Esta función está basada en la utilización de **filtros**. Estos los puede realizar con sentencias `if` tradicionales, o bien, utilizar la función de _Python_ `filter`, la cual retorna un iterable con los elementos que retornen `True` a una función dada. Su sintaxis es la siguiente:\n",
        "    ```python\n",
        "    filter(function, iterable)\n",
        "    ```\n",
        "\n",
        "    El parámetro `function` recibe una función que retorne `True` o `False` (función _booleana_) y esta es la que permite evaluar si los elementos del parámetro `iterable` cumplen con la condición de la función o no.\n",
        "    \n",
        "* Para cumplir con el quinto paso dado en el enunciado del ejercicio, puede unir a los _tokens_ que estén almacenados en una lista con la función `join`:\n",
        "    ```python\n",
        "    string.join(iterable)\n",
        "    ```\n",
        "\n",
        "    Donde el parámetro `string` es el separador requerido (en este caso y siguiendo el inciso número 2, este debería ser un espacio `\" \"`) y el parámetro `iterable` es la lista que contiene a los _tokens_ a unir.\n",
        "</details>"
      ]
    },
    {
      "cell_type": "code",
      "execution_count": null,
      "id": "47ae7af3",
      "metadata": {
        "lines_to_next_cell": 1,
        "id": "47ae7af3"
      },
      "outputs": [],
      "source": [
        "# FUNCIÓN CALIFICADA delete_words:\n",
        "\n",
        "def delete_words(soup, id, min_len, max_len, stops):\n",
        "    ### ESCRIBA SU CÓDIGO AQUÍ ###\n",
        "    txt = soup.find(id=id).get_text().lower()\n",
        "    lineas=txt.split('\\n')\n",
        "    lineas_limpias = [linea.strip() for linea in lineas]\n",
        "    strip_text = (\" \").join(lineas_limpias)\n",
        "    palabras_filtradas = [palabra for palabra in strip_text.split(\" \") if min_len <= len(palabra) <= max_len]\n",
        "    resulting_tokens=[i for i in palabras_filtradas if i not in stops]\n",
        "    resulting_tokens = \" \".join(resulting_tokens)\n",
        "\n",
        "\n",
        "    return resulting_tokens\n",
        "    ### FIN DEL CÓDIGO ###"
      ]
    },
    {
      "cell_type": "code",
      "execution_count": null,
      "id": "ba769513",
      "metadata": {
        "id": "ba769513"
      },
      "outputs": [],
      "source": [
        "#TEST_CELL\n",
        "stops = [\"de\", \"la\", \"a\", \"del\"]\n",
        "print(delete_words(soup, \"toc\", 1, 23, stops))"
      ]
    },
    {
      "cell_type": "markdown",
      "id": "e33ec0bb",
      "metadata": {
        "id": "e33ec0bb"
      },
      "source": [
        "**Salida esperada:**\n",
        "\n",
        "* En el ejemplo, la función retorna la tabla de contenido, que está identificada con el _id_ `toc`, se eliminan los artículos _[\"de\", \"la\", \"a\", \"del\"]_ y la longitud de cada _token_ debe estar entre 1 y 23 caracteres.\n",
        "\n",
        "```python\n",
        "stops = [\"de\", \"la\", \"a\", \"del\"]\n",
        "print(delete_words(soup, \"toc\", 1, 23, stops))\n",
        "```\n",
        "\n",
        "> `'índice 1 biografía 2 contribuciones lingüística 2.1 teoría principios y parámetros 3 activismo político y posicionamientos 4 antiglobalización económica chomsky 4.1 perspectiva sobre el ateísmo, ciencia y religión 5 libros publicados 5.1 lingüística 5.2 política 6 véase también 7 notas 8 bibliografía 9 enlaces externos'`"
      ]
    },
    {
      "cell_type": "code",
      "execution_count": null,
      "id": "413015fb",
      "metadata": {
        "lines_to_next_cell": 1,
        "id": "413015fb"
      },
      "outputs": [],
      "source": [
        "#TEST_CELL\n",
        "stops = [\"de\", \"la\", \"a\", \"del\", \"por\", \"las\"]\n",
        "print(delete_words(soup, \"footer\", 3, 10, stops))"
      ]
    },
    {
      "cell_type": "markdown",
      "id": "fee2400c",
      "metadata": {
        "id": "fee2400c"
      },
      "source": [
        "**Salida esperada:**\n",
        "* En este caso, la función retorna la tabla de contenido, que está identificada con el _id_ `footer`, se eliminan los artículos _[\"de\", \"la\", \"a\", \"del\", \"por\", \"las\"]_ y la longitud de cada _token_ debe estar entre 3 y 10 caracteres.\n",
        "\n",
        "```python\n",
        "stops = [\"de\", \"la\", \"a\", \"del\"]\n",
        "print(delete_words(soup, \"toc\", 1, 23, stops))\n",
        "```\n",
        "\n",
        "> `'esta página editó última vez oct 2022 11:04. texto está disponible bajo licencia creative commons atribución compartir igual 3.0; pueden aplicarse cláusulas usar este sitio, usted acepta nuestros términos uso nuestra política wikipedia® una marca registrada fundación wikimedia, inc., una sin ánimo lucro. política privacidad acerca wikipedia limitación versión para móviles cookies'`"
      ]
    },
    {
      "cell_type": "markdown",
      "id": "346b7839",
      "metadata": {
        "id": "346b7839"
      },
      "source": [
        "## **5. Conteo de un Listado de Nombres Sobre un Párrafo**\n",
        "---\n",
        "En este ejercicio se requiere realizar un conteo de la cantidad de palabras dadas que se encuentren dentro de un texto en particular, para ello, debe completar la función `count_words` con un código válido que retorne un diccionario que contenga como llave la _palabra_ deseada y como valor la _cantidad_ de ocurrencias que la palabra tiene dentro de una sección indicada del archivo **HTML**.\n",
        "\n",
        "**Parámetros**\n",
        "\n",
        "* `soup`: este debe contener el documento **HTML** pero como un objeto de `beautifulsoup`.\n",
        "* `id`: cadena de texto que indica una de las secciones del archivo **HTML** que tenga como _id_ el argumento indicado.\n",
        "* `min_len`: número entero que indica el límite inferior del _rango de longitud_ por el cual deben estar filtradas las palabras.\n",
        "* `max_len`: número entero que indica el límite superior del _rango de longitud_ por el cual deben estar filtradas las palabras.\n",
        "* `stops`: lista cuyos elementos son _strings_ o _tokens_ los cuales deben ser los que se eliminen de la cadena de texto.\n",
        "* `words`: lista cuyos elementos son _strings_ que indican qué palabras se desean contar dentro del texto.\n",
        "\n",
        "**Retorna**\n",
        "\n",
        "* `counts`: diccionario que contiene el conteo de las palabras (`words`) indicadas como argumentos."
      ]
    },
    {
      "cell_type": "markdown",
      "id": "316c0381",
      "metadata": {
        "id": "316c0381"
      },
      "source": [
        "<details>    \n",
        "<summary>\n",
        "    <font size=\"3\" color=\"darkgreen\"><b>Pistas</b></font>\n",
        "</summary>\n",
        "\n",
        "* Recuerde que en el diccionario se deben almacenar las palabras y el conteo de cada una de estas como el valor de cada elemento del diccionario. Este proceso de almacenamiento lo debe hacer _después_ de haber realizado la eliminación de palabras visto en el punto anterior.\n",
        "* Puede utilizar la función `counts` de _Python_ para hacer más eficiente a la función. Su sintaxis es:\n",
        "    ```python\n",
        "    text.count(element)\n",
        "    ```\n",
        "Esta devuelve el número de veces que el elemento (`element`) especificado aparece en el texto (`text`) indicado.\n",
        "</details>"
      ]
    },
    {
      "cell_type": "code",
      "execution_count": null,
      "id": "8e0eac0d",
      "metadata": {
        "lines_to_next_cell": 1,
        "id": "8e0eac0d"
      },
      "outputs": [],
      "source": [
        "# FUNCIÓN CALIFICADA count_words:\n",
        "\n",
        "def count_words(\n",
        "        soup, id, min_len, max_len,\n",
        "        stops, words\n",
        "        ):\n",
        "    ### ESCRIBA SU CÓDIGO AQUÍ ###\n",
        "    txt = soup.find(id=id).get_text().lower()\n",
        "    lineas=txt.split('\\n')\n",
        "    lineas_limpias = [linea.strip() for linea in lineas]\n",
        "    strip_text = (\" \").join(lineas_limpias)\n",
        "    palabras_filtradas = [palabra for palabra in strip_text.split(\" \") if min_len <= len(palabra) <= max_len]\n",
        "    resulting_tokens=[i for i in palabras_filtradas if i not in stops]\n",
        "    resulting_tokens = \" \".join(resulting_tokens)\n",
        "    counts =dict(zip(words, [resulting_tokens.count(i) for i in words]))\n",
        "\n",
        "    return counts\n",
        "    ### FIN DEL CÓDIGO ###"
      ]
    },
    {
      "cell_type": "code",
      "execution_count": null,
      "id": "2e2ff218",
      "metadata": {
        "id": "2e2ff218"
      },
      "outputs": [],
      "source": [
        "#TEST_CELL\n",
        "stops = [\"de\", \"la\", \"a\", \"del\", \"por\", \"las\"]\n",
        "words = [\"chomsky\", \"sintaxis\"]\n",
        "print(count_words(soup, \"bodyContent\", 3, 10, stops, words))"
      ]
    },
    {
      "cell_type": "markdown",
      "id": "64cf851e",
      "metadata": {
        "id": "64cf851e"
      },
      "source": [
        "**Salida esperada:**\n",
        "\n",
        "* En este ejemplo, la función retorna un diccionario con el conteo de las palabras _\"chomsky\"_ y _\"sintaxis\"_, dentro del _id_ `bodyContent`, se eliminan los artículos _[\"de\", \"la\", \"a\", \"del\", \"por\", \"las\"]_ y la longitud de cada _token_ debe estar entre 3 y 10 caracteres.\n",
        "\n",
        "```python\n",
        "stops = [\"de\", \"la\", \"a\", \"del\", \"por\", \"las\"]\n",
        "words = [\"chomsky\", \"sintaxis\"]\n",
        "print(count_words(soup, \"bodyContent\", 3, 10, stops, words))\n",
        "```\n",
        "\n",
        "> `{'chomsky': 97, 'sintaxis': 6}`"
      ]
    },
    {
      "cell_type": "code",
      "execution_count": null,
      "id": "f393284f",
      "metadata": {
        "id": "f393284f"
      },
      "outputs": [],
      "source": [
        "#TEST_CELL\n",
        "stops = [\"de\", \"la\", \"a\", \"del\", \"por\", \"las\"]\n",
        "words = [\"teoría\", \"lenguaje\"]\n",
        "print(count_words(soup, \"bodyContent\", 3, 10, stops, words))"
      ]
    },
    {
      "cell_type": "markdown",
      "id": "57e41a49",
      "metadata": {
        "id": "57e41a49"
      },
      "source": [
        "**Salida esperada:**\n",
        "* En este caso, la función retorna un diccionario con el conteo de las palabras _\"teoría\"_ y _\"lenguaje\"_, dentro del _id_ `bodyContent`, se eliminan los mismos artículos que el ejemplo anterior _[\"de\", \"la\", \"a\", \"del\", \"por\", \"las\"]_ y la longitud de cada _token_ debe estar entre 3 y 10 caracteres.\n",
        "\n",
        "```python\n",
        "stops = [\"de\", \"la\", \"a\", \"del\", \"por\", \"las\"]\n",
        "words = [\"teoría\", \"lenguaje\"]\n",
        "print(count_words(soup, \"bodyContent\", 3, 10, stops, words))\n",
        "```\n",
        "\n",
        "> `{'teoría': 21, 'lenguaje': 23}`"
      ]
    },
    {
      "cell_type": "code",
      "execution_count": null,
      "id": "20ae6e57",
      "metadata": {
        "lines_to_next_cell": 1,
        "id": "20ae6e57"
      },
      "outputs": [],
      "source": [
        "#TEST_CELL\n",
        "stops = [\"de\", \"la\", \"a\", \"del\", \"por\", \"las\"]\n",
        "words = [\"teoría\", \"lenguaje\", \"formal\", \"gramática\"]\n",
        "print(count_words(soup, \"bodyContent\", 3, 10, stops, words))"
      ]
    },
    {
      "cell_type": "markdown",
      "id": "69418d84",
      "metadata": {
        "id": "69418d84"
      },
      "source": [
        "**Salida esperada:**\n",
        "* Por último, se mantienen los argumentos de los ejemplos anteriores pero la función retorna un diccionario con el conteo de las palabras _\"teoría\"_, _\"lenguaje\"_, _\"formal\"_ y _\"gramática\"_.\n",
        "```python\n",
        "stops = [\"de\", \"la\", \"a\", \"del\", \"por\", \"las\"]\n",
        "words = [\"teoría\", \"lenguaje\", \"formal\", \"gramática\"]\n",
        "print(count_words(soup, \"bodyContent\", 3, 10, stops, words))\n",
        "```\n",
        "\n",
        "> `{'teoría': 21, 'lenguaje': 23, 'formal': 3, 'gramática': 26}`"
      ]
    },
    {
      "cell_type": "markdown",
      "id": "2d8a80d4",
      "metadata": {
        "id": "2d8a80d4"
      },
      "source": [
        "## **6. Formato de Tabla de los Conteos**\n",
        "---\n",
        "En este ejercicio se requiere dar un formato en forma de tabla al resultado del ejercicio anterior. Para ello, debe completar la función `print_counts` con un código válido que retorne una tabla con la _cantidad_ de ocurrencias que una palabra dada tiene dentro de una sección indicada del archivo **HTML**. Para realizar la tabla, tenga en cuenta que la separación, ancho o la longitud de cada columna es de **20 espacios o caracteres** y se debe justificar cada elemento a la izquierda.\n",
        "\n",
        "**Parámetros**\n",
        "\n",
        "* `soup`: este debe contener el documento **HTML** pero como un objeto de `beautifulsoup`.\n",
        "* `id`: cadena de texto que indica una de las secciones del archivo **HTML** que tenga como _id_ el argumento indicado.\n",
        "* `min_len`: número entero que indica el límite inferior del _rango de longitud_ por el cual deben estar filtradas las palabras.\n",
        "* `max_len`: número entero que indica el límite superior del _rango de longitud_ por el cual deben estar filtradas las palabras.\n",
        "* `stops`: lista cuyos elementos son _strings_ o _tokens_ los cuales deben ser los que se eliminen de la cadena de texto.\n",
        "* `words`: lista cuyos elementos son _strings_ que indican qué palabras se desean contar dentro del texto.\n",
        "\n",
        "**Retorna**\n",
        "\n",
        "* `values`: conteo de la cantidad de ocurrencias de una palabra en _formato de tabla (f-string)_."
      ]
    },
    {
      "cell_type": "markdown",
      "id": "36440bd0",
      "metadata": {
        "id": "36440bd0"
      },
      "source": [
        "<details>    \n",
        "<summary>\n",
        "    <font size=\"3\" color=\"darkgreen\"><b>Pistas</b></font>\n",
        "</summary>\n",
        "\n",
        "* En el taller guiado `3_manipulacion_strings` se explica el formateo de _strings_ (_f-strings_) y, gracias a esto, es posible acotar el ancho de cada columna y si se debe justificar a izquierda (<) o derecha (>).\n",
        "* En este ejercicio solo debe considerar dos columnas \"_Palabra_\", la cual contiene el listado de palabras a contar y \"_Conteo_\" que indica cuántas ocurrencias tuvo la palabra correspondiente dentro del texto. También tenga en cuenta que la separación entre el título y las filas de datos de la tabla formada por guiones `-` puede crearse igualmente con el formato de _f-strings_.\n",
        "\n",
        "\n",
        "</details>"
      ]
    },
    {
      "cell_type": "code",
      "execution_count": null,
      "id": "ca2a94b2",
      "metadata": {
        "lines_to_next_cell": 1,
        "id": "ca2a94b2"
      },
      "outputs": [],
      "source": [
        "# FUNCIÓN CALIFICADA print_counts:\n",
        "\n",
        "def print_counts(\n",
        "        soup, id, min_len, max_len,\n",
        "        stops, words\n",
        "        ):\n",
        "    ### ESCRIBA SU CÓDIGO AQUÍ ###\n",
        "    txt = soup.find(id=id).get_text().lower()\n",
        "    lineas=txt.split('\\n')\n",
        "    lineas_limpias = [linea.strip() for linea in lineas]\n",
        "    strip_text = (\" \").join(lineas_limpias)\n",
        "    palabras_filtradas = [palabra for palabra in strip_text.split(\" \") if min_len <= len(palabra) <= max_len]\n",
        "    resulting_tokens=[i for i in palabras_filtradas if i not in stops]\n",
        "    resulting_tokens = \" \".join(resulting_tokens)\n",
        "    counts =dict(zip(words, [resulting_tokens.count(i) for i in words]))\n",
        "\n",
        "    values = f\"|{'Palabra':<20}|{'Conteo':<20}|\\n|--------------------|--------------------|\\n\"\n",
        "    for clave, valor in counts.items():\n",
        "        values += f\"|{clave:<20}|{valor:<20}|\\n\"\n",
        "\n",
        "\n",
        "    return values.rstrip(\"\\n\")\n",
        "    ### FIN DEL CÓDIGO ###"
      ]
    },
    {
      "cell_type": "code",
      "execution_count": null,
      "id": "4ecbdf6b",
      "metadata": {
        "id": "4ecbdf6b"
      },
      "outputs": [],
      "source": [
        "#TEST_CELL\n",
        "stops = [\"de\", \"la\", \"a\", \"del\", \"por\", \"las\"]\n",
        "words = [\"chomsky\", \"sintaxis\"]\n",
        "print(print_counts(soup, \"bodyContent\", 3, 10, stops, words))"
      ]
    },
    {
      "cell_type": "markdown",
      "id": "01b864bf",
      "metadata": {
        "id": "01b864bf"
      },
      "source": [
        "**Salida esperada:**\n",
        "\n",
        "* Al igual que el ejemplo del ejercicio anterior, la función retorna una tabla con el conteo de las palabras _\"chomsky\"_ y _\"sintaxis\"_, dentro del _id_ `bodyContent`, se eliminan los artículos _[\"de\", \"la\", \"a\", \"del\", \"por\", \"las\"]_ y la longitud de cada _token_ debe estar entre 3 y 10 caracteres.\n",
        "\n",
        "```python\n",
        "stops = [\"de\", \"la\", \"a\", \"del\", \"por\", \"las\"]\n",
        "words = [\"chomsky\", \"sintaxis\"]\n",
        "print(print_counts(soup, \"bodyContent\", 3, 10, stops, words))\n",
        "```\n",
        "<img src=\"https://drive.google.com/uc?export=view&id=1VNpgBNcQ-wtPWxl5Xpb3bBvSLnqX33ib\">"
      ]
    },
    {
      "cell_type": "code",
      "execution_count": null,
      "id": "70572bce",
      "metadata": {
        "id": "70572bce"
      },
      "outputs": [],
      "source": [
        "#TEST_CELL\n",
        "stops = [\"de\", \"la\", \"a\", \"del\", \"por\", \"las\"]\n",
        "words = [\"teoría\", \"lenguaje\"]\n",
        "print(print_counts(soup, \"bodyContent\", 3, 10, stops, words))"
      ]
    },
    {
      "cell_type": "markdown",
      "id": "75b78c9c",
      "metadata": {
        "id": "75b78c9c"
      },
      "source": [
        "**Salida esperada:**\n",
        "* En este caso, la función retorna una tabla con el conteo de las palabras _\"teoría\"_ y _\"lenguaje\"_, dentro del _id_ `bodyContent`, se eliminan los mismos artículos que el ejemplo anterior _[\"de\", \"la\", \"a\", \"del\", \"por\", \"las\"]_ y la longitud de cada _token_ debe estar entre 3 y 10 caracteres.\n",
        "```python\n",
        "stops = [\"de\", \"la\", \"a\", \"del\", \"por\", \"las\"]\n",
        "words = [\"teoría\", \"lenguaje\"]\n",
        "print(print_counts(soup, \"bodyContent\", 3, 10, stops, words))\n",
        "```\n",
        "<img src=\"https://drive.google.com/uc?export=view&id=1-3Jcq_elxgGdUdkgtROoolVqecgz0iro\">"
      ]
    },
    {
      "cell_type": "code",
      "execution_count": null,
      "id": "b9056d0b",
      "metadata": {
        "id": "b9056d0b"
      },
      "outputs": [],
      "source": [
        "#TEST_CELL\n",
        "stops = [\"de\", \"la\", \"a\", \"del\", \"por\", \"las\"]\n",
        "words = [\"teoría\", \"lenguaje\", \"formal\", \"gramática\"]\n",
        "print(print_counts(soup, \"bodyContent\", 3, 10, stops, words))"
      ]
    },
    {
      "cell_type": "markdown",
      "id": "be286d1f",
      "metadata": {
        "id": "be286d1f"
      },
      "source": [
        "**Salida esperada:**\n",
        "* Por último, se mantienen los argumentos de los ejemplos anteriores pero la función retorna una tabla con el conteo de las palabras _\"teoría\"_, _\"lenguaje\"_, _\"formal\"_ y _\"gramática\"_.\n",
        "```python\n",
        "stops = [\"de\", \"la\", \"a\", \"del\", \"por\", \"las\"]\n",
        "words = [\"teoría\", \"lenguaje\", \"formal\", \"gramática\"]\n",
        "print(print_counts(soup, \"bodyContent\", 3, 10, stops, words))\n",
        "```\n",
        "<img src=\"https://drive.google.com/uc?export=view&id=1prX1UW5j8g35-uSHNsGii90jQCpWBPkv\">"
      ]
    },
    {
      "cell_type": "markdown",
      "id": "465c700b",
      "metadata": {
        "id": "465c700b"
      },
      "source": [
        "## Créditos\n",
        "---\n",
        "\n",
        "* **Profesor:** [Felipe Restrepo Calle](https://dis.unal.edu.co/~ferestrepoca/)\n",
        "* **Asistentes docentes:**\n",
        "    - [Juan Sebastián Lara Ramírez](https://www.linkedin.com/in/juan-sebastian-lara-ramirez-43570a214/).\n",
        "* **Diseño de imágenes:**\n",
        "    - [Rosa Alejandra Superlano Esquibel](mailto:rsuperlano@unal.edu.co).\n",
        "* **Coordinador de virtualización:**\n",
        "    - [Edder Hernández Forero](https://www.linkedin.com/in/edder-hernandez-forero-28aa8b207/).\n",
        "\n",
        "**Universidad Nacional de Colombia** - *Facultad de Ingeniería*"
      ]
    }
  ],
  "metadata": {
    "jupytext": {
      "cell_metadata_filter": "-all",
      "main_language": "python",
      "notebook_metadata_filter": "-all"
    },
    "language_info": {
      "name": "python"
    },
    "colab": {
      "provenance": []
    },
    "kernelspec": {
      "name": "python3",
      "display_name": "Python 3"
    }
  },
  "nbformat": 4,
  "nbformat_minor": 5
}